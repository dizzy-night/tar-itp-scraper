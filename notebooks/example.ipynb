{
 "cells": [
  {
   "cell_type": "code",
   "id": "initial_id",
   "metadata": {
    "collapsed": true,
    "ExecuteTime": {
     "end_time": "2024-08-02T11:26:56.545851Z",
     "start_time": "2024-08-02T11:26:56.539156Z"
    }
   },
   "source": [
    "import os\n",
    "import sys\n",
    "module_path = os.path.abspath(os.path.join('..'))\n",
    "if module_path not in sys.path:\n",
    "    sys.path.append(module_path)"
   ],
   "outputs": [],
   "execution_count": 1
  },
  {
   "metadata": {},
   "cell_type": "code",
   "source": [
    "from tar_itp_scraper import get_full_job_listings\n",
    "from collections import defaultdict\n",
    "\n",
    "\n",
    "companies = defaultdict(list)\n",
    "with open(\"out.txt\", \"w\") as f:\n",
    "    for job_listings in get_full_job_listings():\n",
    "        if \"intern\" in job_listings.job_title.casefold() and job_listings.job_title not in companies[job_listings.company_name]:\n",
    "            f.write(job_listings.pretty)\n",
    "            f.write(\"\\n\" + \"=\" * 100 + \"\\n\\n\")"
   ],
   "id": "494e49c41d5c814d",
   "outputs": [],
   "execution_count": null
  }
 ],
 "metadata": {
  "kernelspec": {
   "display_name": "Python 3",
   "language": "python",
   "name": "python3"
  },
  "language_info": {
   "codemirror_mode": {
    "name": "ipython",
    "version": 2
   },
   "file_extension": ".py",
   "mimetype": "text/x-python",
   "name": "python",
   "nbconvert_exporter": "python",
   "pygments_lexer": "ipython2",
   "version": "2.7.6"
  }
 },
 "nbformat": 4,
 "nbformat_minor": 5
}
